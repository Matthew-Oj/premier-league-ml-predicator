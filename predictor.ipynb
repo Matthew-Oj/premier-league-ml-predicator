{
 "cells": [
  {
   "cell_type": "markdown",
   "id": "190c7186",
   "metadata": {},
   "source": [
    "# Premier League Match Outcome Predictor"
   ]
  },
  {
   "cell_type": "code",
   "execution_count": 1,
   "id": "78504aa0",
   "metadata": {},
   "outputs": [],
   "source": [
    "# Imports\n",
    "import pandas as pd\n",
    "import numpy as np\n",
    "from sklearn.model_selection import train_test_split\n",
    "from sklearn.preprocessing import LabelEncoder\n",
    "from sklearn.metrics import confusion_matrix, accuracy_score\n",
    "from sklearn.linear_model import LogisticRegression\n",
    "import xgboost as xgb\n",
    "import matplotlib.pyplot as plt\n",
    "import seaborn as sns\n"
   ]
  },
  {
   "cell_type": "code",
   "execution_count": 2,
   "id": "42bbb3d3",
   "metadata": {},
   "outputs": [
    {
     "data": {
      "text/html": [
       "<div>\n",
       "<style scoped>\n",
       "    .dataframe tbody tr th:only-of-type {\n",
       "        vertical-align: middle;\n",
       "    }\n",
       "\n",
       "    .dataframe tbody tr th {\n",
       "        vertical-align: top;\n",
       "    }\n",
       "\n",
       "    .dataframe thead th {\n",
       "        text-align: right;\n",
       "    }\n",
       "</style>\n",
       "<table border=\"1\" class=\"dataframe\">\n",
       "  <thead>\n",
       "    <tr style=\"text-align: right;\">\n",
       "      <th></th>\n",
       "      <th>home_team</th>\n",
       "      <th>away_team</th>\n",
       "      <th>home_goals</th>\n",
       "      <th>away_goals</th>\n",
       "      <th>result</th>\n",
       "      <th>season</th>\n",
       "    </tr>\n",
       "  </thead>\n",
       "  <tbody>\n",
       "    <tr>\n",
       "      <th>0</th>\n",
       "      <td>Burnley FC</td>\n",
       "      <td>Manchester City FC</td>\n",
       "      <td>0.0</td>\n",
       "      <td>3.0</td>\n",
       "      <td>A</td>\n",
       "      <td>2023/2024</td>\n",
       "    </tr>\n",
       "    <tr>\n",
       "      <th>1</th>\n",
       "      <td>Arsenal FC</td>\n",
       "      <td>Nottingham Forest FC</td>\n",
       "      <td>2.0</td>\n",
       "      <td>1.0</td>\n",
       "      <td>H</td>\n",
       "      <td>2023/2024</td>\n",
       "    </tr>\n",
       "    <tr>\n",
       "      <th>2</th>\n",
       "      <td>AFC Bournemouth</td>\n",
       "      <td>West Ham United FC</td>\n",
       "      <td>1.0</td>\n",
       "      <td>1.0</td>\n",
       "      <td>D</td>\n",
       "      <td>2023/2024</td>\n",
       "    </tr>\n",
       "    <tr>\n",
       "      <th>3</th>\n",
       "      <td>Brighton &amp; Hove Albion FC</td>\n",
       "      <td>Luton Town FC</td>\n",
       "      <td>4.0</td>\n",
       "      <td>1.0</td>\n",
       "      <td>H</td>\n",
       "      <td>2023/2024</td>\n",
       "    </tr>\n",
       "    <tr>\n",
       "      <th>4</th>\n",
       "      <td>Everton FC</td>\n",
       "      <td>Fulham FC</td>\n",
       "      <td>0.0</td>\n",
       "      <td>1.0</td>\n",
       "      <td>A</td>\n",
       "      <td>2023/2024</td>\n",
       "    </tr>\n",
       "  </tbody>\n",
       "</table>\n",
       "</div>"
      ],
      "text/plain": [
       "                   home_team             away_team  home_goals  away_goals  \\\n",
       "0                 Burnley FC    Manchester City FC         0.0         3.0   \n",
       "1                 Arsenal FC  Nottingham Forest FC         2.0         1.0   \n",
       "2            AFC Bournemouth    West Ham United FC         1.0         1.0   \n",
       "3  Brighton & Hove Albion FC         Luton Town FC         4.0         1.0   \n",
       "4                 Everton FC             Fulham FC         0.0         1.0   \n",
       "\n",
       "  result     season  \n",
       "0      A  2023/2024  \n",
       "1      H  2023/2024  \n",
       "2      D  2023/2024  \n",
       "3      H  2023/2024  \n",
       "4      A  2023/2024  "
      ]
     },
     "execution_count": 2,
     "metadata": {},
     "output_type": "execute_result"
    }
   ],
   "source": [
    "df = pd.read_csv(\"premier_league_2023_2025.csv\")  # replace with your CSV\n",
    "df.head()"
   ]
  },
  {
   "cell_type": "code",
   "execution_count": 3,
   "id": "7984875e",
   "metadata": {},
   "outputs": [
    {
     "name": "stdout",
     "output_type": "stream",
     "text": [
      "Shape: (1140, 6)\n",
      "Columns: Index(['home_team', 'away_team', 'home_goals', 'away_goals', 'result',\n",
      "       'season'],\n",
      "      dtype='object')\n",
      "Missing values:\n",
      " home_team       0\n",
      "away_team       0\n",
      "home_goals    340\n",
      "away_goals    340\n",
      "result        340\n",
      "season          0\n",
      "dtype: int64\n",
      "Result distribution:\n",
      " result\n",
      "H    350\n",
      "A    266\n",
      "D    184\n",
      "Name: count, dtype: int64\n"
     ]
    }
   ],
   "source": [
    "# Basic EDA\n",
    "print(\"Shape:\", df.shape)\n",
    "print(\"Columns:\", df.columns)\n",
    "print(\"Missing values:\\n\", df.isna().sum())\n",
    "print(\"Result distribution:\\n\", df['result'].value_counts())"
   ]
  },
  {
   "cell_type": "code",
   "execution_count": 4,
   "id": "a421d4eb",
   "metadata": {},
   "outputs": [
    {
     "data": {
      "text/html": [
       "<div>\n",
       "<style scoped>\n",
       "    .dataframe tbody tr th:only-of-type {\n",
       "        vertical-align: middle;\n",
       "    }\n",
       "\n",
       "    .dataframe tbody tr th {\n",
       "        vertical-align: top;\n",
       "    }\n",
       "\n",
       "    .dataframe thead th {\n",
       "        text-align: right;\n",
       "    }\n",
       "</style>\n",
       "<table border=\"1\" class=\"dataframe\">\n",
       "  <thead>\n",
       "    <tr style=\"text-align: right;\">\n",
       "      <th></th>\n",
       "      <th>result</th>\n",
       "      <th>result_label</th>\n",
       "    </tr>\n",
       "  </thead>\n",
       "  <tbody>\n",
       "    <tr>\n",
       "      <th>0</th>\n",
       "      <td>A</td>\n",
       "      <td>0</td>\n",
       "    </tr>\n",
       "    <tr>\n",
       "      <th>1</th>\n",
       "      <td>H</td>\n",
       "      <td>2</td>\n",
       "    </tr>\n",
       "    <tr>\n",
       "      <th>2</th>\n",
       "      <td>D</td>\n",
       "      <td>1</td>\n",
       "    </tr>\n",
       "    <tr>\n",
       "      <th>3</th>\n",
       "      <td>H</td>\n",
       "      <td>2</td>\n",
       "    </tr>\n",
       "    <tr>\n",
       "      <th>4</th>\n",
       "      <td>A</td>\n",
       "      <td>0</td>\n",
       "    </tr>\n",
       "  </tbody>\n",
       "</table>\n",
       "</div>"
      ],
      "text/plain": [
       "  result  result_label\n",
       "0      A             0\n",
       "1      H             2\n",
       "2      D             1\n",
       "3      H             2\n",
       "4      A             0"
      ]
     },
     "execution_count": 4,
     "metadata": {},
     "output_type": "execute_result"
    }
   ],
   "source": [
    "# Convert result to categorical labels\n",
    "le_result = LabelEncoder()\n",
    "df['result_label'] = le_result.fit_transform(df['result'])\n",
    "# 0 = Away win (A), 1 = Draw (D), 2 = Home win (H)\n",
    "df[['result','result_label']].head()"
   ]
  },
  {
   "cell_type": "code",
   "execution_count": 5,
   "id": "1d4a6256",
   "metadata": {},
   "outputs": [],
   "source": [
    "# Feature Engineering: rolling stats per team\n",
    "# Compute average goals scored/conceded in last 5 matches\n",
    "\n",
    "teams = df['home_team'].unique()\n",
    "df['home_team_avg_goals_scored'] = 0.0\n",
    "df['home_team_avg_goals_conceded'] = 0.0\n",
    "df['away_team_avg_goals_scored'] = 0.0\n",
    "df['away_team_avg_goals_conceded'] = 0.0"
   ]
  },
  {
   "cell_type": "code",
   "execution_count": 6,
   "id": "c75bfc91",
   "metadata": {},
   "outputs": [],
   "source": [
    "# Sort by season to maintain chronological order\n",
    "df = df.sort_values(['season']).reset_index(drop=True)\n",
    "\n",
    "# Rolling stats dictionary\n",
    "team_stats = {team: {'goals_scored': [], 'goals_conceded': []} for team in teams}\n",
    "\n",
    "window = 5  # last 5 matches\n",
    "\n",
    "for idx, row in df.iterrows():\n",
    "    home = row['home_team']\n",
    "    away = row['away_team']\n",
    "    \n",
    "    # Home team averages\n",
    "    hs = team_stats[home]['goals_scored'][-window:] if team_stats[home]['goals_scored'] else [0]\n",
    "    hc = team_stats[home]['goals_conceded'][-window:] if team_stats[home]['goals_conceded'] else [0]\n",
    "    df.at[idx,'home_team_avg_goals_scored'] = np.mean(hs)\n",
    "    df.at[idx,'home_team_avg_goals_conceded'] = np.mean(hc)\n",
    "    \n",
    "    # Away team averages\n",
    "    as_ = team_stats[away]['goals_scored'][-window:] if team_stats[away]['goals_scored'] else [0]\n",
    "    ac = team_stats[away]['goals_conceded'][-window:] if team_stats[away]['goals_conceded'] else [0]\n",
    "    df.at[idx,'away_team_avg_goals_scored'] = np.mean(as_)\n",
    "    df.at[idx,'away_team_avg_goals_conceded'] = np.mean(ac)\n",
    "    \n",
    "    # Update stats after the match\n",
    "    if not pd.isna(row['home_goals']):\n",
    "        team_stats[home]['goals_scored'].append(row['home_goals'])\n",
    "        team_stats[home]['goals_conceded'].append(row['away_goals'])\n",
    "        team_stats[away]['goals_scored'].append(row['away_goals'])\n",
    "        team_stats[away]['goals_conceded'].append(row['home_goals'])\n"
   ]
  },
  {
   "cell_type": "code",
   "execution_count": 7,
   "id": "27fbff6c",
   "metadata": {},
   "outputs": [],
   "source": [
    "# Prepare features and target\n",
    "features = ['home_team_avg_goals_scored','home_team_avg_goals_conceded',\n",
    "            'away_team_avg_goals_scored','away_team_avg_goals_conceded']\n",
    "X = df[features]\n",
    "y = df['result_label']\n",
    "\n",
    "# Split train/test\n",
    "X_train, X_test, y_train, y_test = train_test_split(X, y, test_size=0.2, shuffle=False)"
   ]
  },
  {
   "cell_type": "code",
   "execution_count": 8,
   "id": "056c9148",
   "metadata": {},
   "outputs": [
    {
     "name": "stderr",
     "output_type": "stream",
     "text": [
      "c:\\Users\\Matthew\\Desktop\\GitHub\\premier-league-ml-predicator\\.venv\\Lib\\site-packages\\sklearn\\linear_model\\_logistic.py:1272: FutureWarning: 'multi_class' was deprecated in version 1.5 and will be removed in 1.8. From then on, it will always use 'multinomial'. Leave it to its default value to avoid this warning.\n",
      "  warnings.warn(\n"
     ]
    },
    {
     "name": "stdout",
     "output_type": "stream",
     "text": [
      "Logistic Regression Accuracy: 0.11403508771929824\n"
     ]
    },
    {
     "data": {
      "image/png": "[encoded data removed]",
      "text/plain": [
       "<Figure size 640x480 with 2 Axes>"
      ]
     },
     "metadata": {},
     "output_type": "display_data"
    },
    {
     "name": "stdout",
     "output_type": "stream",
     "text": [
      "XGBoost Accuracy: 0.39473684210526316\n"
     ]
    },
    {
     "data": {
      "image/png": "[encoded data removed]",
      "text/plain": [
       "<Figure size 640x480 with 2 Axes>"
      ]
     },
     "metadata": {},
     "output_type": "display_data"
    },
    {
     "name": "stdout",
     "output_type": "stream",
     "text": [
      "Predicted result: H\n"
     ]
    }
   ],
   "source": [
    "# Baseline model: Logistic Regression\n",
    "lr = LogisticRegression(multi_class='multinomial', max_iter=1000)\n",
    "lr.fit(X_train, y_train)\n",
    "y_pred_lr = lr.predict(X_test)\n",
    "\n",
    "print(\"Logistic Regression Accuracy:\", accuracy_score(y_test, y_pred_lr))\n",
    "sns.heatmap(confusion_matrix(y_test, y_pred_lr), annot=True, fmt=\"d\", cmap=\"Blues\")\n",
    "plt.title(\"Confusion Matrix - Logistic Regression\")\n",
    "plt.show()\n",
    "\n",
    "# %%\n",
    "# Advanced model: XGBoost\n",
    "xgb_model = xgb.XGBClassifier(objective='multi:softmax', num_class=3, eval_metric='mlogloss')\n",
    "xgb_model.fit(X_train, y_train)\n",
    "y_pred_xgb = xgb_model.predict(X_test)\n",
    "\n",
    "print(\"XGBoost Accuracy:\", accuracy_score(y_test, y_pred_xgb))\n",
    "sns.heatmap(confusion_matrix(y_test, y_pred_xgb), annot=True, fmt=\"d\", cmap=\"Greens\")\n",
    "plt.title(\"Confusion Matrix - XGBoost\")\n",
    "plt.show()\n",
    "\n",
    "# %%\n",
    "# Example prediction for a new match\n",
    "new_match = pd.DataFrame({\n",
    "    'home_team_avg_goals_scored':[1.5],\n",
    "    'home_team_avg_goals_conceded':[1.0],\n",
    "    'away_team_avg_goals_scored':[1.2],\n",
    "    'away_team_avg_goals_conceded':[1.3]\n",
    "})\n",
    "pred_label = xgb_model.predict(new_match)[0]\n",
    "pred_result = le_result.inverse_transform([pred_label])[0]\n",
    "print(\"Predicted result:\", pred_result)"
   ]
  }
 ],
 "metadata": {
  "kernelspec": {
   "display_name": ".venv",
   "language": "python",
   "name": "python3"
  },
  "language_info": {
   "codemirror_mode": {
    "name": "ipython",
    "version": 3
   },
   "file_extension": ".py",
   "mimetype": "text/x-python",
   "name": "python",
   "nbconvert_exporter": "python",
   "pygments_lexer": "ipython3",
   "version": "3.12.10"
  }
 },
 "nbformat": 4,
 "nbformat_minor": 5
}
